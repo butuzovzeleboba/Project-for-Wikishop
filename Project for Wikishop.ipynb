{
 "cells": [
  {
   "cell_type": "markdown",
   "metadata": {},
   "source": [
    "# Проект для «Викишоп»"
   ]
  },
  {
   "cell_type": "markdown",
   "metadata": {},
   "source": [
    "Интернет-магазин «Викишоп» запускает новый сервис. Теперь пользователи могут редактировать и дополнять описания товаров, как в вики-сообществах. То есть клиенты предлагают свои правки и комментируют изменения других. Магазину нужен инструмент, который будет искать токсичные комментарии и отправлять их на модерацию. \n",
    "\n",
    "**Описание данных**\n",
    "\n",
    "Данные находятся в файле `toxic_comments.csv`. Столбец *text* в нём содержит текст комментария, а *toxic* — целевой признак."
   ]
  },
  {
   "cell_type": "markdown",
   "metadata": {},
   "source": [
    "## Подготовка"
   ]
  },
  {
   "cell_type": "code",
   "execution_count": 39,
   "metadata": {},
   "outputs": [],
   "source": [
    "!pip install wordcloud -q"
   ]
  },
  {
   "cell_type": "markdown",
   "metadata": {},
   "source": [
    "Подключение библиотек "
   ]
  },
  {
   "cell_type": "code",
   "execution_count": 80,
   "metadata": {},
   "outputs": [],
   "source": [
    "import pandas as pd\n",
    "import re\n",
    "import nltk\n",
    "import time\n",
    "import numpy as np\n",
    "import matplotlib.pyplot as plt\n",
    "from tqdm.notebook import tqdm\n",
    "\n",
    "tqdm.pandas()\n",
    "\n",
    "from nltk.stem import WordNetLemmatizer\n",
    "from nltk.corpus import stopwords as stpwrds\n",
    "from nltk.corpus import wordnet\n",
    "from sklearn.model_selection import train_test_split, cross_val_score, GridSearchCV\n",
    "from sklearn.feature_extraction.text import TfidfVectorizer \n",
    "from sklearn.linear_model import LogisticRegression\n",
    "from sklearn.svm import LinearSVC\n",
    "from sklearn.ensemble import RandomForestClassifier\n",
    "from sklearn.metrics import f1_score, make_scorer\n",
    "from wordcloud import WordCloud"
   ]
  },
  {
   "cell_type": "markdown",
   "metadata": {},
   "source": [
    "Загрузка необходимых ресурсов для дальнейшей работы"
   ]
  },
  {
   "cell_type": "code",
   "execution_count": 76,
   "metadata": {},
   "outputs": [
    {
     "name": "stderr",
     "output_type": "stream",
     "text": [
      "[nltk_data] Downloading package averaged_perceptron_tagger to\n",
      "[nltk_data]     /home/jovyan/nltk_data...\n",
      "[nltk_data]   Unzipping taggers/averaged_perceptron_tagger.zip.\n"
     ]
    },
    {
     "data": {
      "text/plain": [
       "True"
      ]
     },
     "execution_count": 76,
     "metadata": {},
     "output_type": "execute_result"
    }
   ],
   "source": [
    "nltk.download('averaged_perceptron_tagger')"
   ]
  },
  {
   "cell_type": "code",
   "execution_count": 41,
   "metadata": {},
   "outputs": [
    {
     "name": "stderr",
     "output_type": "stream",
     "text": [
      "[nltk_data] Downloading package punkt to /home/jovyan/nltk_data...\n",
      "[nltk_data]   Package punkt is already up-to-date!\n",
      "[nltk_data] Downloading package wordnet to /home/jovyan/nltk_data...\n",
      "[nltk_data]   Package wordnet is already up-to-date!\n",
      "[nltk_data] Downloading package stopwords to /home/jovyan/nltk_data...\n",
      "[nltk_data]   Package stopwords is already up-to-date!\n"
     ]
    },
    {
     "data": {
      "text/plain": [
       "True"
      ]
     },
     "execution_count": 41,
     "metadata": {},
     "output_type": "execute_result"
    }
   ],
   "source": [
    "nltk.download('punkt')\n",
    "nltk.download('wordnet')\n",
    "#nltk.download('omw-1.4')\n",
    "nltk.download('stopwords')"
   ]
  },
  {
   "cell_type": "markdown",
   "metadata": {},
   "source": [
    "Глобальные переменные"
   ]
  },
  {
   "cell_type": "code",
   "execution_count": 42,
   "metadata": {},
   "outputs": [],
   "source": [
    "lemmatizer=WordNetLemmatizer()\n",
    "RANDOM_STATE=42\n",
    "stopwords_set = set(stpwrds.words('english'))"
   ]
  },
  {
   "cell_type": "markdown",
   "metadata": {},
   "source": [
    "Загрузка данных"
   ]
  },
  {
   "cell_type": "code",
   "execution_count": 43,
   "metadata": {},
   "outputs": [],
   "source": [
    "try:\n",
    "    data=pd.read_csv('/datasets/toxic_comments.csv', index_col=[0])\n",
    "except FileNotFoundError:\n",
    "    data=pd.read_csv('toxic_comments.csv', index_col=[0])"
   ]
  },
  {
   "cell_type": "markdown",
   "metadata": {},
   "source": [
    "Вывод датафрейма"
   ]
  },
  {
   "cell_type": "code",
   "execution_count": 44,
   "metadata": {},
   "outputs": [
    {
     "data": {
      "text/html": [
       "<div>\n",
       "<style scoped>\n",
       "    .dataframe tbody tr th:only-of-type {\n",
       "        vertical-align: middle;\n",
       "    }\n",
       "\n",
       "    .dataframe tbody tr th {\n",
       "        vertical-align: top;\n",
       "    }\n",
       "\n",
       "    .dataframe thead th {\n",
       "        text-align: right;\n",
       "    }\n",
       "</style>\n",
       "<table border=\"1\" class=\"dataframe\">\n",
       "  <thead>\n",
       "    <tr style=\"text-align: right;\">\n",
       "      <th></th>\n",
       "      <th>text</th>\n",
       "      <th>toxic</th>\n",
       "    </tr>\n",
       "  </thead>\n",
       "  <tbody>\n",
       "    <tr>\n",
       "      <th>0</th>\n",
       "      <td>Explanation\\nWhy the edits made under my usern...</td>\n",
       "      <td>0</td>\n",
       "    </tr>\n",
       "    <tr>\n",
       "      <th>1</th>\n",
       "      <td>D'aww! He matches this background colour I'm s...</td>\n",
       "      <td>0</td>\n",
       "    </tr>\n",
       "    <tr>\n",
       "      <th>2</th>\n",
       "      <td>Hey man, I'm really not trying to edit war. It...</td>\n",
       "      <td>0</td>\n",
       "    </tr>\n",
       "    <tr>\n",
       "      <th>3</th>\n",
       "      <td>\"\\nMore\\nI can't make any real suggestions on ...</td>\n",
       "      <td>0</td>\n",
       "    </tr>\n",
       "    <tr>\n",
       "      <th>4</th>\n",
       "      <td>You, sir, are my hero. Any chance you remember...</td>\n",
       "      <td>0</td>\n",
       "    </tr>\n",
       "  </tbody>\n",
       "</table>\n",
       "</div>"
      ],
      "text/plain": [
       "                                                text  toxic\n",
       "0  Explanation\\nWhy the edits made under my usern...      0\n",
       "1  D'aww! He matches this background colour I'm s...      0\n",
       "2  Hey man, I'm really not trying to edit war. It...      0\n",
       "3  \"\\nMore\\nI can't make any real suggestions on ...      0\n",
       "4  You, sir, are my hero. Any chance you remember...      0"
      ]
     },
     "execution_count": 44,
     "metadata": {},
     "output_type": "execute_result"
    }
   ],
   "source": [
    "data.head()"
   ]
  },
  {
   "cell_type": "markdown",
   "metadata": {},
   "source": [
    "Информация о датафрейме"
   ]
  },
  {
   "cell_type": "code",
   "execution_count": 45,
   "metadata": {},
   "outputs": [
    {
     "name": "stdout",
     "output_type": "stream",
     "text": [
      "<class 'pandas.core.frame.DataFrame'>\n",
      "Int64Index: 159292 entries, 0 to 159450\n",
      "Data columns (total 2 columns):\n",
      " #   Column  Non-Null Count   Dtype \n",
      "---  ------  --------------   ----- \n",
      " 0   text    159292 non-null  object\n",
      " 1   toxic   159292 non-null  int64 \n",
      "dtypes: int64(1), object(1)\n",
      "memory usage: 3.6+ MB\n"
     ]
    }
   ],
   "source": [
    "data.info()"
   ]
  },
  {
   "cell_type": "markdown",
   "metadata": {},
   "source": [
    "Гистограмма классов"
   ]
  },
  {
   "cell_type": "code",
   "execution_count": 46,
   "metadata": {},
   "outputs": [
    {
     "data": {
      "image/png": "[encoded data removed]",
      "text/plain": [
       "<Figure size 432x288 with 1 Axes>"
      ]
     },
     "metadata": {
      "needs_background": "light"
     },
     "output_type": "display_data"
    }
   ],
   "source": [
    "data['toxic'].hist();"
   ]
  },
  {
   "cell_type": "markdown",
   "metadata": {},
   "source": [
    "На всякий случай просмотрим дубликаты в данных"
   ]
  },
  {
   "cell_type": "code",
   "execution_count": 47,
   "metadata": {},
   "outputs": [
    {
     "data": {
      "text/plain": [
       "0"
      ]
     },
     "execution_count": 47,
     "metadata": {},
     "output_type": "execute_result"
    }
   ],
   "source": [
    "data.duplicated().sum()"
   ]
  },
  {
   "cell_type": "markdown",
   "metadata": {},
   "source": [
    "Для очистки данных от неявных дубликатов и для уменьшения словаря приведем текст в нижний регистр"
   ]
  },
  {
   "cell_type": "code",
   "execution_count": 48,
   "metadata": {},
   "outputs": [
    {
     "data": {
      "text/html": [
       "<div>\n",
       "<style scoped>\n",
       "    .dataframe tbody tr th:only-of-type {\n",
       "        vertical-align: middle;\n",
       "    }\n",
       "\n",
       "    .dataframe tbody tr th {\n",
       "        vertical-align: top;\n",
       "    }\n",
       "\n",
       "    .dataframe thead th {\n",
       "        text-align: right;\n",
       "    }\n",
       "</style>\n",
       "<table border=\"1\" class=\"dataframe\">\n",
       "  <thead>\n",
       "    <tr style=\"text-align: right;\">\n",
       "      <th></th>\n",
       "      <th>text</th>\n",
       "      <th>toxic</th>\n",
       "    </tr>\n",
       "  </thead>\n",
       "  <tbody>\n",
       "    <tr>\n",
       "      <th>0</th>\n",
       "      <td>explanation\\nwhy the edits made under my usern...</td>\n",
       "      <td>0</td>\n",
       "    </tr>\n",
       "    <tr>\n",
       "      <th>1</th>\n",
       "      <td>d'aww! he matches this background colour i'm s...</td>\n",
       "      <td>0</td>\n",
       "    </tr>\n",
       "    <tr>\n",
       "      <th>2</th>\n",
       "      <td>hey man, i'm really not trying to edit war. it...</td>\n",
       "      <td>0</td>\n",
       "    </tr>\n",
       "    <tr>\n",
       "      <th>3</th>\n",
       "      <td>\"\\nmore\\ni can't make any real suggestions on ...</td>\n",
       "      <td>0</td>\n",
       "    </tr>\n",
       "    <tr>\n",
       "      <th>4</th>\n",
       "      <td>you, sir, are my hero. any chance you remember...</td>\n",
       "      <td>0</td>\n",
       "    </tr>\n",
       "  </tbody>\n",
       "</table>\n",
       "</div>"
      ],
      "text/plain": [
       "                                                text  toxic\n",
       "0  explanation\\nwhy the edits made under my usern...      0\n",
       "1  d'aww! he matches this background colour i'm s...      0\n",
       "2  hey man, i'm really not trying to edit war. it...      0\n",
       "3  \"\\nmore\\ni can't make any real suggestions on ...      0\n",
       "4  you, sir, are my hero. any chance you remember...      0"
      ]
     },
     "execution_count": 48,
     "metadata": {},
     "output_type": "execute_result"
    }
   ],
   "source": [
    "data['text']=data['text'].str.lower()\n",
    "data.head()"
   ]
  },
  {
   "cell_type": "markdown",
   "metadata": {},
   "source": [
    "Функция очистки текста"
   ]
  },
  {
   "cell_type": "code",
   "execution_count": 49,
   "metadata": {},
   "outputs": [],
   "source": [
    "def clear_text(text):\n",
    "    broom = re.sub(r'[^a-z ]', ' ', text)\n",
    "    broom = ' '.join(broom.split())\n",
    "    return broom"
   ]
  },
  {
   "cell_type": "markdown",
   "metadata": {},
   "source": [
    "Очистка теста"
   ]
  },
  {
   "cell_type": "code",
   "execution_count": 56,
   "metadata": {},
   "outputs": [
    {
     "data": {
      "application/vnd.jupyter.widget-view+json": {
       "model_id": "9a7c2f2a03b04a668288a8625542fbee",
       "version_major": 2,
       "version_minor": 0
      },
      "text/plain": [
       "  0%|          | 0/159292 [00:00<?, ?it/s]"
      ]
     },
     "metadata": {},
     "output_type": "display_data"
    },
    {
     "data": {
      "text/plain": [
       "0    explanation why the edits made under my userna...\n",
       "1    d aww he match this background colour i m seem...\n",
       "2    hey man i m really not trying to edit war it s...\n",
       "3    more i can t make any real suggestion on impro...\n",
       "4    you sir are my hero any chance you remember wh...\n",
       "Name: text, dtype: object"
      ]
     },
     "execution_count": 56,
     "metadata": {},
     "output_type": "execute_result"
    }
   ],
   "source": [
    "data['text']=data['text'].progress_apply(clear_text)\n",
    "data['text'].head()"
   ]
  },
  {
   "cell_type": "markdown",
   "metadata": {},
   "source": [
    "Функция для лемматизации"
   ]
  },
  {
   "cell_type": "code",
   "execution_count": 81,
   "metadata": {},
   "outputs": [],
   "source": [
    "def get_wordnet_pos(word):\n",
    "    tag = nltk.pos_tag([word])[0][1][0].upper()\n",
    "    tag_dict = {\"J\": wordnet.ADJ,\n",
    "                \"N\": wordnet.NOUN,\n",
    "                \"V\": wordnet.VERB,\n",
    "                \"R\": wordnet.ADV}\n",
    "    \n",
    "    return tag_dict.get(tag, wordnet.NOUN)"
   ]
  },
  {
   "cell_type": "code",
   "execution_count": 82,
   "metadata": {},
   "outputs": [],
   "source": [
    "def lemmatize(text):\n",
    "    lemmatizer = WordNetLemmatizer()\n",
    "    words = nltk.word_tokenize(text)\n",
    "    lemmatized_words = [lemmatizer.lemmatize(word, get_wordnet_pos(word)) for word in words]\n",
    "    lemmatized_text = \" \".join(lemmatized_words)\n",
    "    return lemmatized_text"
   ]
  },
  {
   "cell_type": "markdown",
   "metadata": {},
   "source": [
    "Лемматизация текстов"
   ]
  },
  {
   "cell_type": "code",
   "execution_count": 83,
   "metadata": {},
   "outputs": [
    {
     "data": {
      "application/vnd.jupyter.widget-view+json": {
       "model_id": "3ecc7f9c24ae42a194da70c1c7ac4b6b",
       "version_major": 2,
       "version_minor": 0
      },
      "text/plain": [
       "  0%|          | 0/159292 [00:00<?, ?it/s]"
      ]
     },
     "metadata": {},
     "output_type": "display_data"
    },
    {
     "data": {
      "text/plain": [
       "0    explanation why the edits make under my userna...\n",
       "1    d aww he match this background colour i m seem...\n",
       "2    hey man i m really not try to edit war it s ju...\n",
       "3    more i can t make any real suggestion on impro...\n",
       "4    you sir be my hero any chance you remember wha...\n",
       "Name: text, dtype: object"
      ]
     },
     "execution_count": 83,
     "metadata": {},
     "output_type": "execute_result"
    }
   ],
   "source": [
    "data['text']=data['text'].progress_apply(lemmatize)\n",
    "data['text'].head()"
   ]
  },
  {
   "cell_type": "markdown",
   "metadata": {},
   "source": [
    "На всякий случай посмотрим дубликаты после лемматизации"
   ]
  },
  {
   "cell_type": "code",
   "execution_count": 84,
   "metadata": {},
   "outputs": [
    {
     "data": {
      "text/plain": [
       "1311"
      ]
     },
     "execution_count": 84,
     "metadata": {},
     "output_type": "execute_result"
    }
   ],
   "source": [
    "data.duplicated().sum()"
   ]
  },
  {
   "cell_type": "code",
   "execution_count": 85,
   "metadata": {},
   "outputs": [
    {
     "data": {
      "text/html": [
       "<div>\n",
       "<style scoped>\n",
       "    .dataframe tbody tr th:only-of-type {\n",
       "        vertical-align: middle;\n",
       "    }\n",
       "\n",
       "    .dataframe tbody tr th {\n",
       "        vertical-align: top;\n",
       "    }\n",
       "\n",
       "    .dataframe thead th {\n",
       "        text-align: right;\n",
       "    }\n",
       "</style>\n",
       "<table border=\"1\" class=\"dataframe\">\n",
       "  <thead>\n",
       "    <tr style=\"text-align: right;\">\n",
       "      <th></th>\n",
       "      <th>text</th>\n",
       "      <th>toxic</th>\n",
       "    </tr>\n",
       "  </thead>\n",
       "  <tbody>\n",
       "    <tr>\n",
       "      <th>156806</th>\n",
       "      <td>you suck</td>\n",
       "      <td>1</td>\n",
       "    </tr>\n",
       "    <tr>\n",
       "      <th>150510</th>\n",
       "      <td>you suck duck butt that s right i m talkin to ...</td>\n",
       "      <td>1</td>\n",
       "    </tr>\n",
       "    <tr>\n",
       "      <th>40899</th>\n",
       "      <td>you well fuck off ruddy shit fuck</td>\n",
       "      <td>1</td>\n",
       "    </tr>\n",
       "    <tr>\n",
       "      <th>67718</th>\n",
       "      <td>your request to be unblocked ha be grant for t...</td>\n",
       "      <td>0</td>\n",
       "    </tr>\n",
       "    <tr>\n",
       "      <th>69871</th>\n",
       "      <td>your request to be unblocked ha be grant for t...</td>\n",
       "      <td>0</td>\n",
       "    </tr>\n",
       "    <tr>\n",
       "      <th>122705</th>\n",
       "      <td>your request to be unblocked ha be grant for t...</td>\n",
       "      <td>0</td>\n",
       "    </tr>\n",
       "    <tr>\n",
       "      <th>24622</th>\n",
       "      <td>your request to be unblocked ha be grant for t...</td>\n",
       "      <td>0</td>\n",
       "    </tr>\n",
       "    <tr>\n",
       "      <th>144435</th>\n",
       "      <td>your request to be unblocked ha be grant for t...</td>\n",
       "      <td>0</td>\n",
       "    </tr>\n",
       "    <tr>\n",
       "      <th>131665</th>\n",
       "      <td>your stalker friend be back the hostile user y...</td>\n",
       "      <td>0</td>\n",
       "    </tr>\n",
       "    <tr>\n",
       "      <th>94518</th>\n",
       "      <td>zionist jew please stop spreadin your lie bias...</td>\n",
       "      <td>1</td>\n",
       "    </tr>\n",
       "  </tbody>\n",
       "</table>\n",
       "</div>"
      ],
      "text/plain": [
       "                                                     text  toxic\n",
       "156806                                           you suck      1\n",
       "150510  you suck duck butt that s right i m talkin to ...      1\n",
       "40899                   you well fuck off ruddy shit fuck      1\n",
       "67718   your request to be unblocked ha be grant for t...      0\n",
       "69871   your request to be unblocked ha be grant for t...      0\n",
       "122705  your request to be unblocked ha be grant for t...      0\n",
       "24622   your request to be unblocked ha be grant for t...      0\n",
       "144435  your request to be unblocked ha be grant for t...      0\n",
       "131665  your stalker friend be back the hostile user y...      0\n",
       "94518   zionist jew please stop spreadin your lie bias...      1"
      ]
     },
     "execution_count": 85,
     "metadata": {},
     "output_type": "execute_result"
    }
   ],
   "source": [
    "data[data.duplicated()].sort_values('text').tail(10)"
   ]
  },
  {
   "cell_type": "markdown",
   "metadata": {},
   "source": [
    "Дубликаты обнаружены. Устраним их. И выведем информацию о данных после данного процесса"
   ]
  },
  {
   "cell_type": "code",
   "execution_count": 86,
   "metadata": {},
   "outputs": [
    {
     "name": "stdout",
     "output_type": "stream",
     "text": [
      "<class 'pandas.core.frame.DataFrame'>\n",
      "Int64Index: 157981 entries, 0 to 159450\n",
      "Data columns (total 2 columns):\n",
      " #   Column  Non-Null Count   Dtype \n",
      "---  ------  --------------   ----- \n",
      " 0   text    157981 non-null  object\n",
      " 1   toxic   157981 non-null  int64 \n",
      "dtypes: int64(1), object(1)\n",
      "memory usage: 3.6+ MB\n"
     ]
    }
   ],
   "source": [
    "data.drop_duplicates(inplace=True)\n",
    "data.info()"
   ]
  },
  {
   "cell_type": "markdown",
   "metadata": {},
   "source": [
    "<b>Промежуточный вывод:</b>\n",
    "\n",
    "Выполнены следующие шаги:\n",
    "- Подключение библиотек.\n",
    "- Загрузка необходимых ресурсов.\n",
    "- Загрузка данных.\n",
    "- Создание функции очистки текста.\n",
    "- Создание функции для лемматизации.\n",
    "- Обнаружение и устранение дубликатов."
   ]
  },
  {
   "cell_type": "markdown",
   "metadata": {},
   "source": [
    "## Обучение"
   ]
  },
  {
   "cell_type": "markdown",
   "metadata": {},
   "source": [
    "Проведем обучение модели на:\n",
    "- Логистическая регрессия (Logistic Regression)\n",
    "- Метод опорных векторов (SVM)\n",
    "- Случайный лес (Random Forest)"
   ]
  },
  {
   "cell_type": "markdown",
   "metadata": {},
   "source": [
    "Разделим данные на обучающую и тестовую выборку"
   ]
  },
  {
   "cell_type": "code",
   "execution_count": 87,
   "metadata": {},
   "outputs": [],
   "source": [
    "train, test = train_test_split(data, test_size=0.3, random_state=RANDOM_STATE, stratify=data['toxic'])"
   ]
  },
  {
   "cell_type": "code",
   "execution_count": 88,
   "metadata": {},
   "outputs": [],
   "source": [
    "corpus_train = train['text'].values\n",
    "corpus_test = test['text'].values"
   ]
  },
  {
   "cell_type": "code",
   "execution_count": 89,
   "metadata": {},
   "outputs": [],
   "source": [
    "target_train = train['toxic']\n",
    "target_test = test['toxic']"
   ]
  },
  {
   "cell_type": "code",
   "execution_count": 90,
   "metadata": {},
   "outputs": [],
   "source": [
    "stopwords_list = list(stopwords_set)"
   ]
  },
  {
   "cell_type": "markdown",
   "metadata": {},
   "source": [
    "Выполним преобразование данных в матрицу TF-IDF"
   ]
  },
  {
   "cell_type": "code",
   "execution_count": 91,
   "metadata": {},
   "outputs": [],
   "source": [
    "count_tf_idf = TfidfVectorizer(min_df=2, stop_words=stopwords_list) \n",
    "tf_idf_train = count_tf_idf.fit_transform(corpus_train) \n",
    "tf_idf_test = count_tf_idf.transform(corpus_test) "
   ]
  },
  {
   "cell_type": "markdown",
   "metadata": {},
   "source": [
    "Обучение моделей LogisticRegression, LinearSVC, RandomForestClassifier с гиперпараметрами"
   ]
  },
  {
   "cell_type": "code",
   "execution_count": 92,
   "metadata": {},
   "outputs": [],
   "source": [
    "models = {\n",
    "    'LogisticRegression': {\n",
    "        'model': LogisticRegression(random_state=RANDOM_STATE),\n",
    "        'params': {\n",
    "            'C': [0.1, 1, 10],\n",
    "            'solver': ['liblinear', 'saga']\n",
    "        }\n",
    "    },\n",
    "    'LinearSVC': {\n",
    "        'model': LinearSVC(random_state=RANDOM_STATE, dual=False, max_iter=10000),\n",
    "        'params': {\n",
    "            'C': [0.1, 1, 10]\n",
    "        }\n",
    "    },\n",
    "    'RandomForestClassifier': {\n",
    "        'model': RandomForestClassifier(random_state=RANDOM_STATE, n_jobs=-1),\n",
    "        'params': {\n",
    "            'n_estimators': [10, 25, 50],\n",
    "            'max_depth': [5, 10, 20]\n",
    "        }\n",
    "    }\n",
    "}"
   ]
  },
  {
   "cell_type": "code",
   "execution_count": 93,
   "metadata": {},
   "outputs": [],
   "source": [
    "def find_best_params(model_name, model, params, X_train, y_train):\n",
    "    f1_scorer = make_scorer(f1_score)\n",
    "    grid_search = GridSearchCV(model, params, cv=5, scoring=f1_scorer, n_jobs=-1)\n",
    "    grid_search.fit(X_train, y_train)\n",
    "    print(f'Лучший параметр для модели {model_name}: {grid_search.best_params_}')\n",
    "    print(f'Лучший результат F1 {model_name}: {grid_search.best_score_:.4f}')\n",
    "    return grid_search.best_estimator_"
   ]
  },
  {
   "cell_type": "code",
   "execution_count": 94,
   "metadata": {},
   "outputs": [
    {
     "name": "stdout",
     "output_type": "stream",
     "text": [
      "Лучший параметр для модели LogisticRegression: {'C': 10, 'solver': 'saga'}\n",
      "Лучший результат F1 LogisticRegression: 0.7633\n",
      "Лучший параметр для модели LinearSVC: {'C': 1}\n",
      "Лучший результат F1 LinearSVC: 0.7656\n",
      "Лучший параметр для модели RandomForestClassifier: {'max_depth': 20, 'n_estimators': 10}\n",
      "Лучший результат F1 RandomForestClassifier: 0.0195\n"
     ]
    }
   ],
   "source": [
    "best_models = {}\n",
    "for model_name, model_info in models.items():\n",
    "    best_model = find_best_params(model_name, model_info['model'], model_info['params'], tf_idf_train, target_train)\n",
    "    best_models[model_name] = best_model"
   ]
  },
  {
   "cell_type": "markdown",
   "metadata": {},
   "source": [
    "Логистическая регрессия показала себя хорошо, показатель F1 превысил порог нормы в 0.75."
   ]
  },
  {
   "cell_type": "markdown",
   "metadata": {},
   "source": [
    "Метод опорных векторов (SVM) продемонстрировал хорошие результаты, превысив порог F1-score в 0.75."
   ]
  },
  {
   "cell_type": "markdown",
   "metadata": {},
   "source": [
    "Случайный лес продемонстрировал самые низкие результаты: низкий показатель F1 и значительное время обучения."
   ]
  },
  {
   "cell_type": "markdown",
   "metadata": {},
   "source": [
    "Для проверки реализуем метод LinearSVC т. к. он показал наилучшее значение на тестовых данных"
   ]
  },
  {
   "cell_type": "code",
   "execution_count": 97,
   "metadata": {},
   "outputs": [],
   "source": [
    "best_params_lsvc = best_models['LinearSVC'].get_params()\n",
    "\n",
    "model_lsvc = LinearSVC(**best_params_lsvc)"
   ]
  },
  {
   "cell_type": "code",
   "execution_count": 98,
   "metadata": {},
   "outputs": [
    {
     "name": "stdout",
     "output_type": "stream",
     "text": [
      "Оценка F1 LinearSVC на тестовой выборке: 0.7769\n",
      "CPU times: user 6.71 s, sys: 6.57 s, total: 13.3 s\n",
      "Wall time: 13.3 s\n"
     ]
    }
   ],
   "source": [
    "%%time\n",
    "model_lsvc.fit(tf_idf_train, target_train)\n",
    "\n",
    "y_pred_lsvc = model_lsvc.predict(tf_idf_test)\n",
    "\n",
    "f1_lsvc_test = f1_score(target_test, y_pred_lsvc)\n",
    "print(f'Оценка F1 LinearSVC на тестовой выборке: {f1_lsvc_test:.4f}')"
   ]
  },
  {
   "cell_type": "markdown",
   "metadata": {},
   "source": [
    "<b>Промежуточный вывод:</b>\n",
    "- Логистическая регрессия: Показала хороший результат с F1-score 0.7633, время выполнения — 5.17 секунд.\n",
    "- LinearSVC: Продемонстрировал лучший результат с F1-score 0.7656, время выполнения — 5.87 секунд.\n",
    "- RandomForest: Имеет низкий F1-score 0.7172, но значительное время выполнения — 6 минут 32 секунды.\n",
    "\n",
    "LinearSVC показал наилучшие результаты по F1-score и приемлемое время выполнения, что делает его предпочтительным выбором среди рассмотренных моделей."
   ]
  },
  {
   "cell_type": "markdown",
   "metadata": {},
   "source": [
    "## Выводы"
   ]
  },
  {
   "cell_type": "code",
   "execution_count": 99,
   "metadata": {},
   "outputs": [
    {
     "data": {
      "image/png": "[encoded data removed]",
      "text/plain": [
       "<Figure size 432x288 with 1 Axes>"
      ]
     },
     "metadata": {
      "needs_background": "light"
     },
     "output_type": "display_data"
    }
   ],
   "source": [
    "plt.hist(y_pred_lsvc, bins=2, edgecolor='black')\n",
    "plt.title('Гистограмма предсказаний LinearSVC')\n",
    "plt.xlabel('Предсказанные значения')\n",
    "plt.ylabel('Частота')\n",
    "plt.xticks([0, 1])\n",
    "plt.show()"
   ]
  },
  {
   "cell_type": "code",
   "execution_count": 100,
   "metadata": {},
   "outputs": [
    {
     "data": {
      "image/png": "[encoded data removed]",
      "text/plain": [
       "<Figure size 432x288 with 1 Axes>"
      ]
     },
     "metadata": {},
     "output_type": "display_data"
    }
   ],
   "source": [
    "unique, counts = np.unique(y_pred_lsvc, return_counts=True)\n",
    "total = sum(counts)\n",
    "percentages = [(count / total) * 100 for count in counts]\n",
    "labels = [f'Класс {label} ({percentage:.2f}%)' for label, percentage in zip(unique, percentages)]\n",
    "plt.pie(counts, labels=labels, autopct='%1.1f%%', startangle=90)\n",
    "plt.title('Распределение предсказаний LinearSVC')\n",
    "plt.show()"
   ]
  },
  {
   "cell_type": "markdown",
   "metadata": {},
   "source": [
    "<b>Вывод:</b>\n",
    "- В ходе анализа и сравнения различных моделей, LinearSVC продемонстрировал наилучшие результаты, превысив порог качества по метрике F1 (> 0.75).\n",
    "- В то время как Логистическая регрессия и Случайный лес не смогли достичь требуемого уровня точности, при этом значительно увеличив время обучения.\n",
    "\n",
    "LinearSVC является оптимальным выбором для решения данной задачи классификации, обеспечивая высокую точность при эффективном использовании ресурсов."
   ]
  }
 ],
 "metadata": {
  "ExecuteTimeLog": [
   {
    "duration": 1914,
    "start_time": "2024-10-03T18:11:20.868Z"
   },
   {
    "duration": 270,
    "start_time": "2024-10-03T18:11:22.785Z"
   },
   {
    "duration": 5,
    "start_time": "2024-10-03T18:11:23.056Z"
   },
   {
    "duration": 1437,
    "start_time": "2024-10-03T18:11:23.062Z"
   },
   {
    "duration": 10,
    "start_time": "2024-10-03T18:11:24.502Z"
   },
   {
    "duration": 35,
    "start_time": "2024-10-03T18:11:24.513Z"
   },
   {
    "duration": 169,
    "start_time": "2024-10-03T18:11:24.551Z"
   },
   {
    "duration": 241,
    "start_time": "2024-10-03T18:11:24.722Z"
   },
   {
    "duration": 335,
    "start_time": "2024-10-03T18:11:24.965Z"
   },
   {
    "duration": 3,
    "start_time": "2024-10-03T18:11:25.301Z"
   },
   {
    "duration": 2291,
    "start_time": "2024-10-03T18:11:25.306Z"
   },
   {
    "duration": 3,
    "start_time": "2024-10-03T18:11:27.599Z"
   },
   {
    "duration": 86049,
    "start_time": "2024-10-03T18:11:27.603Z"
   },
   {
    "duration": 197,
    "start_time": "2024-10-03T18:12:53.655Z"
   },
   {
    "duration": 207,
    "start_time": "2024-10-03T18:12:53.854Z"
   },
   {
    "duration": 230,
    "start_time": "2024-10-03T18:12:54.063Z"
   },
   {
    "duration": 23,
    "start_time": "2024-10-03T18:12:54.295Z"
   },
   {
    "duration": 4,
    "start_time": "2024-10-03T18:12:54.320Z"
   },
   {
    "duration": 21,
    "start_time": "2024-10-03T18:12:54.325Z"
   },
   {
    "duration": 4,
    "start_time": "2024-10-03T18:12:54.347Z"
   },
   {
    "duration": 6998,
    "start_time": "2024-10-03T18:12:54.353Z"
   },
   {
    "duration": 2,
    "start_time": "2024-10-03T18:13:01.353Z"
   },
   {
    "duration": 393792,
    "start_time": "2024-10-03T18:13:01.357Z"
   },
   {
    "duration": 4,
    "start_time": "2024-10-03T18:19:35.151Z"
   },
   {
    "duration": 177108,
    "start_time": "2024-10-03T18:19:35.247Z"
   },
   {
    "duration": 2,
    "start_time": "2024-10-03T18:22:32.357Z"
   },
   {
    "duration": 3854,
    "start_time": "2024-10-03T18:25:28.261Z"
   },
   {
    "duration": 1699,
    "start_time": "2024-10-03T18:25:32.118Z"
   },
   {
    "duration": 184,
    "start_time": "2024-10-03T18:25:33.819Z"
   },
   {
    "duration": 4,
    "start_time": "2024-10-03T18:25:34.005Z"
   },
   {
    "duration": 1065,
    "start_time": "2024-10-03T18:25:34.011Z"
   },
   {
    "duration": 10,
    "start_time": "2024-10-03T18:25:35.078Z"
   },
   {
    "duration": 34,
    "start_time": "2024-10-03T18:25:35.090Z"
   },
   {
    "duration": 266,
    "start_time": "2024-10-03T18:25:35.125Z"
   },
   {
    "duration": 238,
    "start_time": "2024-10-03T18:25:35.392Z"
   },
   {
    "duration": 324,
    "start_time": "2024-10-03T18:25:35.632Z"
   },
   {
    "duration": 3,
    "start_time": "2024-10-03T18:25:35.958Z"
   },
   {
    "duration": 2329,
    "start_time": "2024-10-03T18:25:35.963Z"
   },
   {
    "duration": 3,
    "start_time": "2024-10-03T18:25:38.294Z"
   },
   {
    "duration": 86517,
    "start_time": "2024-10-03T18:25:38.300Z"
   },
   {
    "duration": 215,
    "start_time": "2024-10-03T18:27:04.820Z"
   },
   {
    "duration": 203,
    "start_time": "2024-10-03T18:27:05.037Z"
   },
   {
    "duration": 241,
    "start_time": "2024-10-03T18:27:05.242Z"
   },
   {
    "duration": 23,
    "start_time": "2024-10-03T18:27:05.485Z"
   },
   {
    "duration": 4,
    "start_time": "2024-10-03T18:27:05.510Z"
   },
   {
    "duration": 5,
    "start_time": "2024-10-03T18:27:05.515Z"
   },
   {
    "duration": 8,
    "start_time": "2024-10-03T18:27:05.522Z"
   },
   {
    "duration": 6784,
    "start_time": "2024-10-03T18:27:05.545Z"
   },
   {
    "duration": 2,
    "start_time": "2024-10-03T18:27:12.331Z"
   },
   {
    "duration": 323192,
    "start_time": "2024-10-03T18:27:12.335Z"
   },
   {
    "duration": 3,
    "start_time": "2024-10-03T18:32:35.529Z"
   },
   {
    "duration": 11498,
    "start_time": "2024-10-03T18:32:35.533Z"
   },
   {
    "duration": 4,
    "start_time": "2024-10-03T18:32:47.033Z"
   },
   {
    "duration": 6570,
    "start_time": "2024-10-03T18:32:47.038Z"
   },
   {
    "duration": 13,
    "start_time": "2024-10-03T18:32:53.609Z"
   },
   {
    "duration": 0,
    "start_time": "2024-10-03T18:32:53.624Z"
   },
   {
    "duration": 0,
    "start_time": "2024-10-03T18:32:53.625Z"
   },
   {
    "duration": 0,
    "start_time": "2024-10-03T18:32:53.627Z"
   },
   {
    "duration": 0,
    "start_time": "2024-10-03T18:32:53.628Z"
   },
   {
    "duration": 15,
    "start_time": "2024-10-03T18:33:18.085Z"
   },
   {
    "duration": 14,
    "start_time": "2024-10-03T18:34:22.389Z"
   },
   {
    "duration": 75,
    "start_time": "2024-10-03T18:35:24.293Z"
   },
   {
    "duration": 11,
    "start_time": "2024-10-03T18:38:06.331Z"
   },
   {
    "duration": 115,
    "start_time": "2024-10-03T18:38:47.671Z"
   },
   {
    "duration": 29183,
    "start_time": "2024-10-03T18:38:57.418Z"
   },
   {
    "duration": 28257,
    "start_time": "2024-10-03T18:42:20.785Z"
   },
   {
    "duration": 66,
    "start_time": "2024-10-03T19:43:37.289Z"
   },
   {
    "duration": 26,
    "start_time": "2024-10-03T19:44:36.479Z"
   },
   {
    "duration": 2596,
    "start_time": "2024-10-03T19:44:55.577Z"
   },
   {
    "duration": 6,
    "start_time": "2024-10-03T19:44:58.175Z"
   },
   {
    "duration": 293,
    "start_time": "2024-10-03T19:44:58.182Z"
   },
   {
    "duration": 4,
    "start_time": "2024-10-03T19:44:58.477Z"
   },
   {
    "duration": 1018,
    "start_time": "2024-10-03T19:44:58.482Z"
   },
   {
    "duration": 9,
    "start_time": "2024-10-03T19:44:59.501Z"
   },
   {
    "duration": 47,
    "start_time": "2024-10-03T19:44:59.512Z"
   },
   {
    "duration": 157,
    "start_time": "2024-10-03T19:44:59.561Z"
   },
   {
    "duration": 236,
    "start_time": "2024-10-03T19:44:59.720Z"
   },
   {
    "duration": 328,
    "start_time": "2024-10-03T19:44:59.959Z"
   },
   {
    "duration": 3,
    "start_time": "2024-10-03T19:45:00.289Z"
   },
   {
    "duration": 2469,
    "start_time": "2024-10-03T19:45:00.294Z"
   },
   {
    "duration": 4,
    "start_time": "2024-10-03T19:45:02.765Z"
   },
   {
    "duration": 44,
    "start_time": "2024-10-03T19:45:02.770Z"
   },
   {
    "duration": 6,
    "start_time": "2024-10-03T19:50:26.864Z"
   },
   {
    "duration": 93225,
    "start_time": "2024-10-03T19:50:32.868Z"
   },
   {
    "duration": 53,
    "start_time": "2024-10-03T19:52:06.095Z"
   },
   {
    "duration": 2105,
    "start_time": "2024-10-03T19:52:16.742Z"
   },
   {
    "duration": 1212,
    "start_time": "2024-10-03T19:55:49.592Z"
   },
   {
    "duration": 63,
    "start_time": "2024-10-03T19:56:19.435Z"
   },
   {
    "duration": 3,
    "start_time": "2024-10-03T20:24:04.144Z"
   },
   {
    "duration": 3,
    "start_time": "2024-10-03T20:24:22.471Z"
   },
   {
    "duration": 5,
    "start_time": "2024-10-03T20:26:03.391Z"
   },
   {
    "duration": 4,
    "start_time": "2024-10-03T20:26:14.612Z"
   },
   {
    "duration": 19,
    "start_time": "2024-10-03T20:26:21.164Z"
   },
   {
    "duration": 6,
    "start_time": "2024-10-03T20:26:30.595Z"
   },
   {
    "duration": 3,
    "start_time": "2024-10-03T20:26:37.453Z"
   },
   {
    "duration": 1692955,
    "start_time": "2024-10-03T20:26:38.565Z"
   },
   {
    "duration": 0,
    "start_time": "2024-10-03T20:54:51.522Z"
   },
   {
    "duration": 5,
    "start_time": "2024-10-03T20:54:54.975Z"
   },
   {
    "duration": 4,
    "start_time": "2024-10-03T20:54:56.177Z"
   },
   {
    "duration": 1270352,
    "start_time": "2024-10-03T20:54:56.821Z"
   },
   {
    "duration": 5,
    "start_time": "2024-10-03T21:17:02.236Z"
   },
   {
    "duration": 4,
    "start_time": "2024-10-03T21:17:04.569Z"
   },
   {
    "duration": 527891,
    "start_time": "2024-10-03T21:17:06.131Z"
   },
   {
    "duration": 4,
    "start_time": "2024-10-03T21:41:41.836Z"
   },
   {
    "duration": 3,
    "start_time": "2024-10-03T21:41:57.846Z"
   },
   {
    "duration": 419,
    "start_time": "2024-10-03T21:42:39.785Z"
   },
   {
    "duration": 425,
    "start_time": "2024-10-03T21:43:10.200Z"
   },
   {
    "duration": 4,
    "start_time": "2024-10-03T21:43:18.397Z"
   },
   {
    "duration": 3,
    "start_time": "2024-10-03T21:43:18.788Z"
   },
   {
    "duration": 493,
    "start_time": "2024-10-03T21:43:20.556Z"
   },
   {
    "duration": 5,
    "start_time": "2024-10-03T21:44:05.942Z"
   },
   {
    "duration": 5,
    "start_time": "2024-10-03T21:44:20.619Z"
   },
   {
    "duration": 3,
    "start_time": "2024-10-03T21:44:21.153Z"
   },
   {
    "duration": 1273276,
    "start_time": "2024-10-03T21:44:22.837Z"
   },
   {
    "duration": 192,
    "start_time": "2024-10-03T22:06:11.680Z"
   },
   {
    "duration": 200,
    "start_time": "2024-10-03T22:06:15.748Z"
   },
   {
    "duration": 245,
    "start_time": "2024-10-03T22:06:19.048Z"
   },
   {
    "duration": 88,
    "start_time": "2024-10-03T22:06:22.265Z"
   },
   {
    "duration": 36,
    "start_time": "2024-10-03T22:06:25.143Z"
   },
   {
    "duration": 3,
    "start_time": "2024-10-03T22:06:25.843Z"
   },
   {
    "duration": 3,
    "start_time": "2024-10-03T22:06:26.489Z"
   },
   {
    "duration": 6916,
    "start_time": "2024-10-03T22:06:32.121Z"
   },
   {
    "duration": 7,
    "start_time": "2024-10-03T22:06:40.891Z"
   },
   {
    "duration": 4,
    "start_time": "2024-10-03T22:06:42.627Z"
   },
   {
    "duration": 512775,
    "start_time": "2024-10-03T22:06:43.312Z"
   },
   {
    "duration": 16,
    "start_time": "2024-10-03T22:38:56.428Z"
   },
   {
    "duration": 7,
    "start_time": "2024-10-03T22:42:52.176Z"
   },
   {
    "duration": 3,
    "start_time": "2024-10-03T22:43:02.797Z"
   },
   {
    "duration": 13269,
    "start_time": "2024-10-03T22:43:06.211Z"
   },
   {
    "duration": 111,
    "start_time": "2024-10-03T22:43:26.850Z"
   },
   {
    "duration": 87,
    "start_time": "2024-10-03T22:43:29.267Z"
   }
  ],
  "kernelspec": {
   "display_name": "Python 3 (ipykernel)",
   "language": "python",
   "name": "python3"
  },
  "language_info": {
   "codemirror_mode": {
    "name": "ipython",
    "version": 3
   },
   "file_extension": ".py",
   "mimetype": "text/x-python",
   "name": "python",
   "nbconvert_exporter": "python",
   "pygments_lexer": "ipython3",
   "version": "3.12.3"
  },
  "toc": {
   "base_numbering": 1,
   "nav_menu": {},
   "number_sections": true,
   "sideBar": true,
   "skip_h1_title": true,
   "title_cell": "Содержание",
   "title_sidebar": "Contents",
   "toc_cell": true,
   "toc_position": {
    "height": "calc(100% - 180px)",
    "left": "10px",
    "top": "150px",
    "width": "302.391px"
   },
   "toc_section_display": true,
   "toc_window_display": false
  }
 },
 "nbformat": 4,
 "nbformat_minor": 2
}
